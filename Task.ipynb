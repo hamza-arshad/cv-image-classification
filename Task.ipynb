{
  "nbformat": 4,
  "nbformat_minor": 0,
  "metadata": {
    "colab": {
      "provenance": [],
      "collapsed_sections": []
    },
    "kernelspec": {
      "name": "python3",
      "display_name": "Python 3"
    },
    "language_info": {
      "name": "python"
    }
  },
  "cells": [
    {
      "cell_type": "code",
      "source": [
        "from google.colab import drive\n",
        "drive.mount('/content/drive', force_remount=True)"
      ],
      "metadata": {
        "id": "yGD89yhhYIP6",
        "colab": {
          "base_uri": "https://localhost:8080/"
        },
        "outputId": "159e2daa-9c87-438b-e6f2-fd26fde41738"
      },
      "execution_count": 41,
      "outputs": [
        {
          "output_type": "stream",
          "name": "stdout",
          "text": [
            "Mounted at /content/drive\n"
          ]
        }
      ]
    },
    {
      "cell_type": "code",
      "execution_count": 42,
      "metadata": {
        "id": "fan4kcECX5NC"
      },
      "outputs": [],
      "source": [
        "from tensorflow import keras\n",
        "import matplotlib.pyplot as plt\n",
        "from sklearn.metrics import accuracy_score, confusion_matrix, classification_report, homogeneity_score\n",
        "from skimage.feature import hog\n",
        "from sklearn.ensemble import RandomForestClassifier\n",
        "from sklearn.cluster import KMeans\n",
        "import numpy as np\n",
        "import cv2\n",
        "import os"
      ]
    },
    {
      "cell_type": "code",
      "source": [
        "# function to read images using cv\n",
        "# resize the images to the same size of 64 x 64\n",
        "# return images and corresponding labels as arrays\n",
        "def readImagesAsArray(path, files, label):\n",
        "    images = []\n",
        "    labels = []\n",
        "    for file in files:\n",
        "        im = cv2.imread(os.path.join(path, file))\n",
        "        im = cv2.resize(im, (64, 64))\n",
        "        images.append(im)\n",
        "        labels.append(label)\n",
        "    return images, labels"
      ],
      "metadata": {
        "id": "hVDWtg-jX-8f"
      },
      "execution_count": 43,
      "outputs": []
    },
    {
      "cell_type": "code",
      "source": [
        "# function to load dataset from file system\n",
        "# will return train and test sets as np arrays\n",
        "def getImageDataset(path = '/content/drive/MyDrive/CS67_Fall2022_ A1_Dataset'):\n",
        "    folders = ['00001','00002','00003','00004','00005','00006','00007','00008','00009','00010']\n",
        "    train_filename = 'train.txt'\n",
        "    test_filename = 'test.txt'\n",
        "    x_train = []\n",
        "    x_test = []\n",
        "    y_train = []\n",
        "    y_test = []\n",
        "\n",
        "    for i in range(1, 11):\n",
        "        train_file = os.path.join(path, folders[i-1], train_filename)\n",
        "        test_file = os.path.join(path, folders[i-1], test_filename)\n",
        "        \n",
        "        # reading text files as array of strings\n",
        "        train_files_array = np.genfromtxt(train_file, dtype='str')\n",
        "        test_files_array = np.genfromtxt(test_file, dtype='str')\n",
        "\n",
        "        # getting images from the file names\n",
        "        x_train_i, y_train_i = readImagesAsArray(os.path.join(path, folders[i-1]), train_files_array, i)\n",
        "        x_test_i, y_test_i = readImagesAsArray(os.path.join(path, folders[i-1]), test_files_array, i)\n",
        "\n",
        "        # appending to the train and test arrays\n",
        "        x_train += x_train_i\n",
        "        y_train += y_train_i\n",
        "        x_test += x_test_i\n",
        "        y_test += y_test_i\n",
        "\n",
        "    # converting arrays to numpy arrays\n",
        "    return x_train, y_train, x_test, y_test"
      ],
      "metadata": {
        "id": "whiUxXopYAFR"
      },
      "execution_count": 44,
      "outputs": []
    },
    {
      "cell_type": "code",
      "source": [
        "# extract features using hog\n",
        "def getFeaturesUsingHog(images):\n",
        "    descriptors = []\n",
        "    for im in images:\n",
        "        descriptor, image = hog(im, orientations=8, pixels_per_cell=(8, 8),\n",
        "                    cells_per_block=(1, 1), visualize=True)\n",
        "        descriptors.append(descriptor)\n",
        "    return np.array(descriptors)"
      ],
      "metadata": {
        "id": "-NUf5tDtYBgt"
      },
      "execution_count": 45,
      "outputs": []
    },
    {
      "cell_type": "code",
      "source": [
        "# load datasets\n",
        "x_train, y_train, x_test, y_test = getImageDataset()\n",
        "\n",
        "# get feature descriptors for images\n",
        "train_descriptors = getFeaturesUsingHog(x_train)\n",
        "test_descriptors = getFeaturesUsingHog(x_test)"
      ],
      "metadata": {
        "id": "0AqH1vZ2YDTo"
      },
      "execution_count": 46,
      "outputs": []
    },
    {
      "cell_type": "code",
      "source": [
        "# reshape data to the 2d array as scikit models expect data in 2d format\n",
        "x_train = train_descriptors.reshape((len(train_descriptors ), 512))\n",
        "x_test = test_descriptors.reshape((len(test_descriptors), 512))"
      ],
      "metadata": {
        "id": "zaFcfXCkZ_rF"
      },
      "execution_count": 47,
      "outputs": []
    },
    {
      "cell_type": "markdown",
      "source": [
        "Supervised Learning using Random Forest Classifier"
      ],
      "metadata": {
        "id": "fjgTj1v6aDM3"
      }
    },
    {
      "cell_type": "code",
      "source": [
        "# we will use random forest classifier to classify images\n",
        "model=RandomForestClassifier()\n",
        "\n",
        "# training the model\n",
        "model.fit(x_train, y_train)\n",
        "\n",
        "#checking the model on test data\n",
        "y_pred=model.predict(x_test)\n",
        "\n",
        "# printing the accuracy score\n",
        "accuracy_score(y_pred,y_test)"
      ],
      "metadata": {
        "colab": {
          "base_uri": "https://localhost:8080/"
        },
        "id": "oIBq7M-baAV7",
        "outputId": "56fa50db-4ed6-411c-b822-badbe9dd0ed7"
      },
      "execution_count": 48,
      "outputs": [
        {
          "output_type": "execute_result",
          "data": {
            "text/plain": [
              "0.995"
            ]
          },
          "metadata": {},
          "execution_count": 48
        }
      ]
    },
    {
      "cell_type": "code",
      "source": [
        "# Let's print the classification report\n",
        "print(classification_report(y_pred,y_test))"
      ],
      "metadata": {
        "colab": {
          "base_uri": "https://localhost:8080/"
        },
        "id": "x3sCu5toaBV7",
        "outputId": "b775c5b6-0801-4cc7-fd64-67766fea76d6"
      },
      "execution_count": 49,
      "outputs": [
        {
          "output_type": "stream",
          "name": "stdout",
          "text": [
            "              precision    recall  f1-score   support\n",
            "\n",
            "           1       1.00      1.00      1.00        20\n",
            "           2       1.00      1.00      1.00        20\n",
            "           3       0.95      1.00      0.97        19\n",
            "           4       1.00      1.00      1.00        20\n",
            "           5       1.00      1.00      1.00        20\n",
            "           6       1.00      1.00      1.00        20\n",
            "           7       1.00      0.95      0.98        21\n",
            "           8       1.00      1.00      1.00        20\n",
            "           9       1.00      1.00      1.00        20\n",
            "          10       1.00      1.00      1.00        20\n",
            "\n",
            "    accuracy                           0.99       200\n",
            "   macro avg       0.99      1.00      0.99       200\n",
            "weighted avg       1.00      0.99      1.00       200\n",
            "\n"
          ]
        }
      ]
    },
    {
      "cell_type": "markdown",
      "source": [
        "Unsupervised learning using K-means Clustering"
      ],
      "metadata": {
        "id": "OKmMJEgxaHY8"
      }
    },
    {
      "cell_type": "code",
      "source": [
        "def getClassesArray(y_train, indexes):\n",
        "  i = []\n",
        "  for idx, val in enumerate(indexes):\n",
        "    if val == 1:\n",
        "      i.append(y_train[idx])\n",
        "  return i\n",
        "\n",
        "def get_cluster_info(cluster_labels, y_train, kmeans):\n",
        "    # Initializing\n",
        "    reference_labels = {}\n",
        "    # For loop to run through each label of cluster label\n",
        "    for i in range(len(np.unique(kmeans.labels_))):\n",
        "        index = np.where(cluster_labels == i,1,0)\n",
        "        num = np.bincount(getClassesArray(y_train, index)).argmax()\n",
        "        reference_labels[i] = num\n",
        "    return reference_labels"
      ],
      "metadata": {
        "id": "zB3olwnDaJXv"
      },
      "execution_count": 50,
      "outputs": []
    },
    {
      "cell_type": "code",
      "source": [
        "# Initialize the K-Means model\n",
        "# using 10 clusters as we have 10 classes\n",
        "kmeans = KMeans(n_clusters = 10)\n",
        "# Fitting the model to training set\n",
        "y_kmeans = kmeans.fit_predict(x_train)\n",
        "\n",
        "# manually getting the reference labels so we can get accuracy\n",
        "reference_labels = get_cluster_info(kmeans.labels_, y_train, kmeans)\n",
        "number_labels = np.random.rand(len(kmeans.labels_))\n",
        "for i in range(len(kmeans.labels_)):\n",
        "  number_labels[i] = reference_labels[kmeans.labels_[i]]\n",
        "\n",
        "# printing accuracy score\n",
        "print(accuracy_score(number_labels,y_train))"
      ],
      "metadata": {
        "colab": {
          "base_uri": "https://localhost:8080/"
        },
        "id": "y4vRf-DzaKq9",
        "outputId": "1808c352-78b2-43a1-85cf-3ce1a98fa9ba"
      },
      "execution_count": 59,
      "outputs": [
        {
          "output_type": "stream",
          "name": "stdout",
          "text": [
            "0.8275\n"
          ]
        }
      ]
    },
    {
      "cell_type": "markdown",
      "source": [
        "Let's do the same on Test data and see if we get the same accuracy."
      ],
      "metadata": {
        "id": "nTX7fChvaRAF"
      }
    },
    {
      "cell_type": "code",
      "source": [
        "kmeans = KMeans(n_clusters = 10)\n",
        "# Fitting the model to test set\n",
        "kmeans.fit_predict(x_test)\n",
        "\n",
        "kmeans.labels_\n",
        "\n",
        "# checking the accuracy on test set\n",
        "reference_labels = get_cluster_info(kmeans.labels_, y_test, kmeans)\n",
        "number_labels = np.random.rand(len(kmeans.labels_))\n",
        "for i in range(len(kmeans.labels_)):\n",
        "  number_labels[i] = reference_labels[kmeans.labels_[i]]\n",
        "\n",
        "print(accuracy_score(number_labels, y_test))"
      ],
      "metadata": {
        "colab": {
          "base_uri": "https://localhost:8080/"
        },
        "id": "gIGtb1HlaTEv",
        "outputId": "ef87aea9-8834-4fad-8cab-55beb91d6cd4"
      },
      "execution_count": 55,
      "outputs": [
        {
          "output_type": "stream",
          "name": "stdout",
          "text": [
            "0.855\n"
          ]
        }
      ]
    },
    {
      "cell_type": "markdown",
      "source": [
        "As we can see, the accuracy of both test and train data is near to each other (as the dataset is small), so we can say model is not overfitting."
      ],
      "metadata": {
        "id": "xr0Z0NLNaaDM"
      }
    },
    {
      "cell_type": "markdown",
      "source": [
        "Let's print the clusters and see how they are grouped."
      ],
      "metadata": {
        "id": "RQcJzNGzsy4v"
      }
    },
    {
      "cell_type": "code",
      "source": [
        "plt.scatter(x_train[y_kmeans==0, 0], x_train[y_kmeans==0, 1])\n",
        "plt.scatter(x_train[y_kmeans==1, 0], x_train[y_kmeans==1, 1])\n",
        "plt.scatter(x_train[y_kmeans==2, 0], x_train[y_kmeans==2, 1])\n",
        "plt.scatter(x_train[y_kmeans==3, 0], x_train[y_kmeans==3, 1])\n",
        "plt.scatter(x_train[y_kmeans==4, 0], x_train[y_kmeans==4, 1])\n",
        "plt.scatter(x_train[y_kmeans==5, 0], x_train[y_kmeans==5, 1])\n",
        "plt.scatter(x_train[y_kmeans==6, 0], x_train[y_kmeans==6, 1])\n",
        "plt.scatter(x_train[y_kmeans==7, 0], x_train[y_kmeans==7, 1])\n",
        "plt.scatter(x_train[y_kmeans==8, 0], x_train[y_kmeans==8, 1])\n",
        "plt.scatter(x_train[y_kmeans==9, 0], x_train[y_kmeans==9, 1])\n",
        "#Plot the centroid. This time we're going to use the cluster centres  #attribute that returns here the coordinates of the centroid.\n",
        "plt.scatter(kmeans.cluster_centers_[:, 0], kmeans.cluster_centers_[:, 1], s=100, label = 'Centroids')\n",
        "plt.title('Clusters of Images')\n",
        "plt.show()"
      ],
      "metadata": {
        "colab": {
          "base_uri": "https://localhost:8080/",
          "height": 281
        },
        "id": "yoRAqoIksxQp",
        "outputId": "95f8072d-6268-47bf-c64f-2d05d44938a1"
      },
      "execution_count": 67,
      "outputs": [
        {
          "output_type": "display_data",
          "data": {
            "text/plain": [
              "<Figure size 432x288 with 1 Axes>"
            ],
            "image/png": "[encoded data removed]"
          },
          "metadata": {
            "needs_background": "light"
          }
        }
      ]
    },
    {
      "cell_type": "markdown",
      "source": [
        "Links I took inspiration from while implementing this:\n",
        "\n",
        "1. https://medium.com/@joel_34096/k-means-clustering-for-image-classification-a648f28bdc47#:~:text=Yes!,Here's%20how.&text=K%2Dmeans%20clustering%20is%20an,cluster%20with%20the%20nearest%20centroid.\n",
        "2. https://www.analyticsvidhya.com/blog/2022/01/image-classification-using-machine-learning/"
      ],
      "metadata": {
        "id": "zZd-fT3iafvl"
      }
    }
  ]
}